{
  "cells": [
    {
      "cell_type": "code",
      "execution_count": null,
      "metadata": {
        "id": "y5MpZayLabSh"
      },
      "outputs": [],
      "source": [
        "import pandas as pd\n",
        "import numpy as np\n",
        "from tqdm import tqdm\n",
        "from scipy.stats import mode\n",
        "from sklearn.linear_model import LogisticRegression\n",
        "import matplotlib.pyplot as plt\n",
        "from sklearn.model_selection import train_test_split, GridSearchCV\n",
        "from sklearn.metrics import roc_auc_score, classification_report, make_scorer\n",
        "from sklearn.ensemble import RandomForestClassifier\n",
        "from imblearn.over_sampling import SMOTE\n"
      ]
    },
    {
      "cell_type": "code",
      "execution_count": null,
      "metadata": {
        "id": "qQ4q__i9XhFH"
      },
      "outputs": [],
      "source": [
        "########################################\n",
        "df = pd.read_csv(\"/content/drive/MyDrive/vshe/transactions.csv\")"
      ]
    },
    {
      "cell_type": "code",
      "execution_count": null,
      "metadata": {
        "colab": {
          "base_uri": "https://localhost:8080/",
          "height": 483
        },
        "id": "lQ1FRITvq6Rn",
        "outputId": "c248cfaf-e3e6-4176-bfd4-ca46e6a3585d"
      },
      "outputs": [
        {
          "output_type": "execute_result",
          "data": {
            "text/plain": [
              "            ID  TrDateNew  ClientId  StoreID  ProductID  SubgroupID  GroupID  \\\n",
              "0            0 2020-01-31         1        1          1           1        1   \n",
              "1            1 2020-01-31         1        1          2           1        1   \n",
              "2            2 2020-01-31         1        1          3           1        1   \n",
              "3            3 2020-01-31         1        1          4           1        1   \n",
              "4            4 2020-01-31         1        1          5           1        1   \n",
              "...        ...        ...       ...      ...        ...         ...      ...   \n",
              "340922  340922 2020-05-20     32492        1       5072          65       20   \n",
              "340923  340923 2020-05-20     32492        1       7005          65       20   \n",
              "340924  340924 2020-05-20     32492        1      11181          65       20   \n",
              "340925  340925 2020-05-20     32492        1      23173          65       20   \n",
              "340926  340926 2020-05-20     32492        1      21370          65       20   \n",
              "\n",
              "        PaymentID  CCount  AmountWoDiscont  Amount  MagrinGross  Month  \\\n",
              "0               1     1.0               57      57        17.50      1   \n",
              "1               1     1.0               49      49        15.24      1   \n",
              "2               1     2.0              100     100        18.52      1   \n",
              "3               1     1.0               38      38        13.67      1   \n",
              "4               1     1.0               86      86        39.40      1   \n",
              "...           ...     ...              ...     ...          ...    ...   \n",
              "340922      70393     2.0              627     627       296.05      5   \n",
              "340923      70393     2.0              706     706       274.56      5   \n",
              "340924      70393     1.0              260     260       126.67      5   \n",
              "340925      70393     1.0              203     203        92.49      5   \n",
              "340926      70393     1.0              187     187        79.78      5   \n",
              "\n",
              "        Client_return  \n",
              "0                   1  \n",
              "1                   1  \n",
              "2                   1  \n",
              "3                   1  \n",
              "4                   1  \n",
              "...               ...  \n",
              "340922             -1  \n",
              "340923             -1  \n",
              "340924             -1  \n",
              "340925             -1  \n",
              "340926             -1  \n",
              "\n",
              "[340927 rows x 14 columns]"
            ],
            "text/html": [
              "\n",
              "  <div id=\"df-0bda305b-3501-4e4d-82d3-a7908a1b90e2\">\n",
              "    <div class=\"colab-df-container\">\n",
              "      <div>\n",
              "<style scoped>\n",
              "    .dataframe tbody tr th:only-of-type {\n",
              "        vertical-align: middle;\n",
              "    }\n",
              "\n",
              "    .dataframe tbody tr th {\n",
              "        vertical-align: top;\n",
              "    }\n",
              "\n",
              "    .dataframe thead th {\n",
              "        text-align: right;\n",
              "    }\n",
              "</style>\n",
              "<table border=\"1\" class=\"dataframe\">\n",
              "  <thead>\n",
              "    <tr style=\"text-align: right;\">\n",
              "      <th></th>\n",
              "      <th>ID</th>\n",
              "      <th>TrDateNew</th>\n",
              "      <th>ClientId</th>\n",
              "      <th>StoreID</th>\n",
              "      <th>ProductID</th>\n",
              "      <th>SubgroupID</th>\n",
              "      <th>GroupID</th>\n",
              "      <th>PaymentID</th>\n",
              "      <th>CCount</th>\n",
              "      <th>AmountWoDiscont</th>\n",
              "      <th>Amount</th>\n",
              "      <th>MagrinGross</th>\n",
              "      <th>Month</th>\n",
              "      <th>Client_return</th>\n",
              "    </tr>\n",
              "  </thead>\n",
              "  <tbody>\n",
              "    <tr>\n",
              "      <th>0</th>\n",
              "      <td>0</td>\n",
              "      <td>2020-01-31</td>\n",
              "      <td>1</td>\n",
              "      <td>1</td>\n",
              "      <td>1</td>\n",
              "      <td>1</td>\n",
              "      <td>1</td>\n",
              "      <td>1</td>\n",
              "      <td>1.0</td>\n",
              "      <td>57</td>\n",
              "      <td>57</td>\n",
              "      <td>17.50</td>\n",
              "      <td>1</td>\n",
              "      <td>1</td>\n",
              "    </tr>\n",
              "    <tr>\n",
              "      <th>1</th>\n",
              "      <td>1</td>\n",
              "      <td>2020-01-31</td>\n",
              "      <td>1</td>\n",
              "      <td>1</td>\n",
              "      <td>2</td>\n",
              "      <td>1</td>\n",
              "      <td>1</td>\n",
              "      <td>1</td>\n",
              "      <td>1.0</td>\n",
              "      <td>49</td>\n",
              "      <td>49</td>\n",
              "      <td>15.24</td>\n",
              "      <td>1</td>\n",
              "      <td>1</td>\n",
              "    </tr>\n",
              "    <tr>\n",
              "      <th>2</th>\n",
              "      <td>2</td>\n",
              "      <td>2020-01-31</td>\n",
              "      <td>1</td>\n",
              "      <td>1</td>\n",
              "      <td>3</td>\n",
              "      <td>1</td>\n",
              "      <td>1</td>\n",
              "      <td>1</td>\n",
              "      <td>2.0</td>\n",
              "      <td>100</td>\n",
              "      <td>100</td>\n",
              "      <td>18.52</td>\n",
              "      <td>1</td>\n",
              "      <td>1</td>\n",
              "    </tr>\n",
              "    <tr>\n",
              "      <th>3</th>\n",
              "      <td>3</td>\n",
              "      <td>2020-01-31</td>\n",
              "      <td>1</td>\n",
              "      <td>1</td>\n",
              "      <td>4</td>\n",
              "      <td>1</td>\n",
              "      <td>1</td>\n",
              "      <td>1</td>\n",
              "      <td>1.0</td>\n",
              "      <td>38</td>\n",
              "      <td>38</td>\n",
              "      <td>13.67</td>\n",
              "      <td>1</td>\n",
              "      <td>1</td>\n",
              "    </tr>\n",
              "    <tr>\n",
              "      <th>4</th>\n",
              "      <td>4</td>\n",
              "      <td>2020-01-31</td>\n",
              "      <td>1</td>\n",
              "      <td>1</td>\n",
              "      <td>5</td>\n",
              "      <td>1</td>\n",
              "      <td>1</td>\n",
              "      <td>1</td>\n",
              "      <td>1.0</td>\n",
              "      <td>86</td>\n",
              "      <td>86</td>\n",
              "      <td>39.40</td>\n",
              "      <td>1</td>\n",
              "      <td>1</td>\n",
              "    </tr>\n",
              "    <tr>\n",
              "      <th>...</th>\n",
              "      <td>...</td>\n",
              "      <td>...</td>\n",
              "      <td>...</td>\n",
              "      <td>...</td>\n",
              "      <td>...</td>\n",
              "      <td>...</td>\n",
              "      <td>...</td>\n",
              "      <td>...</td>\n",
              "      <td>...</td>\n",
              "      <td>...</td>\n",
              "      <td>...</td>\n",
              "      <td>...</td>\n",
              "      <td>...</td>\n",
              "      <td>...</td>\n",
              "    </tr>\n",
              "    <tr>\n",
              "      <th>340922</th>\n",
              "      <td>340922</td>\n",
              "      <td>2020-05-20</td>\n",
              "      <td>32492</td>\n",
              "      <td>1</td>\n",
              "      <td>5072</td>\n",
              "      <td>65</td>\n",
              "      <td>20</td>\n",
              "      <td>70393</td>\n",
              "      <td>2.0</td>\n",
              "      <td>627</td>\n",
              "      <td>627</td>\n",
              "      <td>296.05</td>\n",
              "      <td>5</td>\n",
              "      <td>-1</td>\n",
              "    </tr>\n",
              "    <tr>\n",
              "      <th>340923</th>\n",
              "      <td>340923</td>\n",
              "      <td>2020-05-20</td>\n",
              "      <td>32492</td>\n",
              "      <td>1</td>\n",
              "      <td>7005</td>\n",
              "      <td>65</td>\n",
              "      <td>20</td>\n",
              "      <td>70393</td>\n",
              "      <td>2.0</td>\n",
              "      <td>706</td>\n",
              "      <td>706</td>\n",
              "      <td>274.56</td>\n",
              "      <td>5</td>\n",
              "      <td>-1</td>\n",
              "    </tr>\n",
              "    <tr>\n",
              "      <th>340924</th>\n",
              "      <td>340924</td>\n",
              "      <td>2020-05-20</td>\n",
              "      <td>32492</td>\n",
              "      <td>1</td>\n",
              "      <td>11181</td>\n",
              "      <td>65</td>\n",
              "      <td>20</td>\n",
              "      <td>70393</td>\n",
              "      <td>1.0</td>\n",
              "      <td>260</td>\n",
              "      <td>260</td>\n",
              "      <td>126.67</td>\n",
              "      <td>5</td>\n",
              "      <td>-1</td>\n",
              "    </tr>\n",
              "    <tr>\n",
              "      <th>340925</th>\n",
              "      <td>340925</td>\n",
              "      <td>2020-05-20</td>\n",
              "      <td>32492</td>\n",
              "      <td>1</td>\n",
              "      <td>23173</td>\n",
              "      <td>65</td>\n",
              "      <td>20</td>\n",
              "      <td>70393</td>\n",
              "      <td>1.0</td>\n",
              "      <td>203</td>\n",
              "      <td>203</td>\n",
              "      <td>92.49</td>\n",
              "      <td>5</td>\n",
              "      <td>-1</td>\n",
              "    </tr>\n",
              "    <tr>\n",
              "      <th>340926</th>\n",
              "      <td>340926</td>\n",
              "      <td>2020-05-20</td>\n",
              "      <td>32492</td>\n",
              "      <td>1</td>\n",
              "      <td>21370</td>\n",
              "      <td>65</td>\n",
              "      <td>20</td>\n",
              "      <td>70393</td>\n",
              "      <td>1.0</td>\n",
              "      <td>187</td>\n",
              "      <td>187</td>\n",
              "      <td>79.78</td>\n",
              "      <td>5</td>\n",
              "      <td>-1</td>\n",
              "    </tr>\n",
              "  </tbody>\n",
              "</table>\n",
              "<p>340927 rows × 14 columns</p>\n",
              "</div>\n",
              "      <button class=\"colab-df-convert\" onclick=\"convertToInteractive('df-0bda305b-3501-4e4d-82d3-a7908a1b90e2')\"\n",
              "              title=\"Convert this dataframe to an interactive table.\"\n",
              "              style=\"display:none;\">\n",
              "        \n",
              "  <svg xmlns=\"http://www.w3.org/2000/svg\" height=\"24px\"viewBox=\"0 0 24 24\"\n",
              "       width=\"24px\">\n",
              "    <path d=\"M0 0h24v24H0V0z\" fill=\"none\"/>\n",
              "    <path d=\"M18.56 5.44l.94 2.06.94-2.06 2.06-.94-2.06-.94-.94-2.06-.94 2.06-2.06.94zm-11 1L8.5 8.5l.94-2.06 2.06-.94-2.06-.94L8.5 2.5l-.94 2.06-2.06.94zm10 10l.94 2.06.94-2.06 2.06-.94-2.06-.94-.94-2.06-.94 2.06-2.06.94z\"/><path d=\"M17.41 7.96l-1.37-1.37c-.4-.4-.92-.59-1.43-.59-.52 0-1.04.2-1.43.59L10.3 9.45l-7.72 7.72c-.78.78-.78 2.05 0 2.83L4 21.41c.39.39.9.59 1.41.59.51 0 1.02-.2 1.41-.59l7.78-7.78 2.81-2.81c.8-.78.8-2.07 0-2.86zM5.41 20L4 18.59l7.72-7.72 1.47 1.35L5.41 20z\"/>\n",
              "  </svg>\n",
              "      </button>\n",
              "      \n",
              "  <style>\n",
              "    .colab-df-container {\n",
              "      display:flex;\n",
              "      flex-wrap:wrap;\n",
              "      gap: 12px;\n",
              "    }\n",
              "\n",
              "    .colab-df-convert {\n",
              "      background-color: #E8F0FE;\n",
              "      border: none;\n",
              "      border-radius: 50%;\n",
              "      cursor: pointer;\n",
              "      display: none;\n",
              "      fill: #1967D2;\n",
              "      height: 32px;\n",
              "      padding: 0 0 0 0;\n",
              "      width: 32px;\n",
              "    }\n",
              "\n",
              "    .colab-df-convert:hover {\n",
              "      background-color: #E2EBFA;\n",
              "      box-shadow: 0px 1px 2px rgba(60, 64, 67, 0.3), 0px 1px 3px 1px rgba(60, 64, 67, 0.15);\n",
              "      fill: #174EA6;\n",
              "    }\n",
              "\n",
              "    [theme=dark] .colab-df-convert {\n",
              "      background-color: #3B4455;\n",
              "      fill: #D2E3FC;\n",
              "    }\n",
              "\n",
              "    [theme=dark] .colab-df-convert:hover {\n",
              "      background-color: #434B5C;\n",
              "      box-shadow: 0px 1px 3px 1px rgba(0, 0, 0, 0.15);\n",
              "      filter: drop-shadow(0px 1px 2px rgba(0, 0, 0, 0.3));\n",
              "      fill: #FFFFFF;\n",
              "    }\n",
              "  </style>\n",
              "\n",
              "      <script>\n",
              "        const buttonEl =\n",
              "          document.querySelector('#df-0bda305b-3501-4e4d-82d3-a7908a1b90e2 button.colab-df-convert');\n",
              "        buttonEl.style.display =\n",
              "          google.colab.kernel.accessAllowed ? 'block' : 'none';\n",
              "\n",
              "        async function convertToInteractive(key) {\n",
              "          const element = document.querySelector('#df-0bda305b-3501-4e4d-82d3-a7908a1b90e2');\n",
              "          const dataTable =\n",
              "            await google.colab.kernel.invokeFunction('convertToInteractive',\n",
              "                                                     [key], {});\n",
              "          if (!dataTable) return;\n",
              "\n",
              "          const docLinkHtml = 'Like what you see? Visit the ' +\n",
              "            '<a target=\"_blank\" href=https://colab.research.google.com/notebooks/data_table.ipynb>data table notebook</a>'\n",
              "            + ' to learn more about interactive tables.';\n",
              "          element.innerHTML = '';\n",
              "          dataTable['output_type'] = 'display_data';\n",
              "          await google.colab.output.renderOutput(dataTable, element);\n",
              "          const docLink = document.createElement('div');\n",
              "          docLink.innerHTML = docLinkHtml;\n",
              "          element.appendChild(docLink);\n",
              "        }\n",
              "      </script>\n",
              "    </div>\n",
              "  </div>\n",
              "  "
            ]
          },
          "metadata": {},
          "execution_count": 179
        }
      ],
      "source": [
        "########################################\n",
        "df.head(-5)"
      ]
    },
    {
      "cell_type": "code",
      "execution_count": null,
      "metadata": {
        "colab": {
          "base_uri": "https://localhost:8080/"
        },
        "id": "SVSk1lLcaf1l",
        "outputId": "7abbef8e-8720-4125-ced1-714f42e7d1a3"
      },
      "outputs": [
        {
          "output_type": "stream",
          "name": "stdout",
          "text": [
            "<class 'pandas.core.frame.DataFrame'>\n",
            "RangeIndex: 340932 entries, 0 to 340931\n",
            "Data columns (total 12 columns):\n",
            " #   Column           Non-Null Count   Dtype         \n",
            "---  ------           --------------   -----         \n",
            " 0   ID               340932 non-null  int64         \n",
            " 1   TrDateNew        340932 non-null  datetime64[ns]\n",
            " 2   ClientId         340932 non-null  int64         \n",
            " 3   StoreID          340932 non-null  int64         \n",
            " 4   ProductID        340932 non-null  int64         \n",
            " 5   SubgroupID       340932 non-null  int64         \n",
            " 6   GroupID          340932 non-null  int64         \n",
            " 7   PaymentID        340932 non-null  int64         \n",
            " 8   CCount           340932 non-null  float64       \n",
            " 9   AmountWoDiscont  340932 non-null  int64         \n",
            " 10  Amount           340932 non-null  int64         \n",
            " 11  MagrinGross      340932 non-null  float64       \n",
            "dtypes: datetime64[ns](1), float64(2), int64(9)\n",
            "memory usage: 31.2 MB\n"
          ]
        }
      ],
      "source": [
        "########################################\n",
        "df.info()"
      ]
    },
    {
      "cell_type": "code",
      "source": [
        "########################################\n",
        "df['TrDateNew'] = pd.to_datetime(df['TrDateNew'])"
      ],
      "metadata": {
        "id": "lJBqi3KTqFuP"
      },
      "execution_count": null,
      "outputs": []
    },
    {
      "cell_type": "code",
      "source": [
        "########################################\n",
        "df['Month'] = df['TrDateNew'].dt.month"
      ],
      "metadata": {
        "id": "bYju3kqWp7pO"
      },
      "execution_count": null,
      "outputs": []
    },
    {
      "cell_type": "code",
      "source": [
        "########################################\n",
        "return_client = [0] * 294039\n",
        "return_client[0] = 1\n",
        "\n",
        "temp_znach = 1\n",
        "\n",
        "for i in tqdm(range(1, 294039)):\n",
        "  if df['ClientId'][i] == df['ClientId'][i - 1]:\n",
        "    return_client[i] = temp_znach\n",
        "  else:\n",
        "    temp_month = df['Month'][i]\n",
        "    if df['ClientId'][i] in set(df[df['Month'] == temp_month + 1]['ClientId']):\n",
        "      temp_znach = 1\n",
        "      return_client[i] = temp_znach\n",
        "    else:\n",
        "      temp_znach = 0\n",
        "      return_client[i] = temp_znach"
      ],
      "metadata": {
        "colab": {
          "base_uri": "https://localhost:8080/"
        },
        "id": "nCxAeDUC2zc3",
        "outputId": "6b5ba2e7-c97b-497c-b7ba-0b04f98ff635"
      },
      "execution_count": null,
      "outputs": [
        {
          "output_type": "stream",
          "name": "stderr",
          "text": [
            "100%|██████████| 294038/294038 [13:40<00:00, 358.55it/s]\n"
          ]
        }
      ]
    },
    {
      "cell_type": "code",
      "source": [
        "########################################\n",
        "return_client = return_client + [-1] * (340932 - len(return_client))"
      ],
      "metadata": {
        "id": "1jY7BSTr6T7v"
      },
      "execution_count": null,
      "outputs": []
    },
    {
      "cell_type": "code",
      "source": [
        "########################################\n",
        "df['Client_return'] = return_client"
      ],
      "metadata": {
        "id": "GfFS4dCL-nyh"
      },
      "execution_count": null,
      "outputs": []
    },
    {
      "cell_type": "code",
      "source": [
        "########################################\n",
        "df.to_csv('tran_new.csv')"
      ],
      "metadata": {
        "id": "WF7pLTwA_BD7"
      },
      "execution_count": null,
      "outputs": []
    },
    {
      "cell_type": "code",
      "source": [
        "df = pd.read_csv('/content/drive/MyDrive/vshe/tran_new.csv')"
      ],
      "metadata": {
        "id": "1doDSeyCvh3t"
      },
      "execution_count": null,
      "outputs": []
    },
    {
      "cell_type": "code",
      "source": [
        "trans_per_month = list(df.groupby(['ClientId', 'Month'])['ID'].count())\n",
        "magrin_per_month = list(df.groupby(['ClientId', 'Month'])['MagrinGross'].sum())\n",
        "sum_count = list(df.groupby(['ClientId', 'Month'])['CCount'].sum())\n",
        "target = list(df.groupby(['ClientId', 'Month'])['Client_return'].mean())\n",
        "max_count = list(df.iloc[df.groupby([\"ClientId\", \"Month\"])[\"MagrinGross\"].idxmax().values]['CCount'])\n",
        "mg_group = list(df.iloc[df.groupby([\"ClientId\", \"Month\"])[\"MagrinGross\"].idxmax().values]['GroupID'])\n",
        "mg_subgroup = list(df.iloc[df.groupby([\"ClientId\", \"Month\"])[\"MagrinGross\"].idxmax().values]['SubgroupID'])\n",
        "mp_group = list(df.iloc[df.groupby([\"ClientId\", \"Month\"])[\"CCount\"].idxmax().values]['GroupID'])\n",
        "mp_subgroup = list(df.iloc[df.groupby([\"ClientId\", \"Month\"])[\"CCount\"].idxmax().values]['SubgroupID'])"
      ],
      "metadata": {
        "id": "PFxc0g_eFp-2"
      },
      "execution_count": null,
      "outputs": []
    },
    {
      "cell_type": "code",
      "source": [
        "train_df = pd.DataFrame({'tpm': trans_per_month, \n",
        "                         'mpm': magrin_per_month, \n",
        "                         'sc': sum_count,\n",
        "                         'mc': max_count,\n",
        "                         'mgg': mg_group,\n",
        "                         'mgsg': mg_subgroup,\n",
        "                         'mpg': mp_group,\n",
        "                         'mpsg': mp_subgroup,\n",
        "                         'target' : target})"
      ],
      "metadata": {
        "id": "-Fmm884ikcrS"
      },
      "execution_count": null,
      "outputs": []
    },
    {
      "cell_type": "code",
      "source": [
        "train_df.head(10)"
      ],
      "metadata": {
        "colab": {
          "base_uri": "https://localhost:8080/",
          "height": 359
        },
        "id": "S1hJ_f0gaYRo",
        "outputId": "2ec21c1c-62e8-4eb0-bf9b-ebee2e78a163"
      },
      "execution_count": null,
      "outputs": [
        {
          "output_type": "execute_result",
          "data": {
            "text/plain": [
              "   tpm      mpm    sc   mc  mgg  mgsg  mpg  mpsg  target\n",
              "0   18  2086.42  32.0  2.0    3     3   11    21     1.0\n",
              "1   50  2107.42  84.0  3.0    3     3    3   128     1.0\n",
              "2    7   370.04  12.0  2.0    3    64   13    46     1.0\n",
              "3    7   522.46  16.0  1.0   10   191   13   109     1.0\n",
              "4    2   161.46   2.0  1.0    3    64    3    64    -1.0\n",
              "5   10  1903.83  13.0  1.0    7    10    5     6     1.0\n",
              "6    6   587.91  10.0  1.0    5   171   13    46     1.0\n",
              "7    3   541.48   3.0  1.0   19    51    9   354     1.0\n",
              "8    9   652.59  10.0  1.0    6   164   20   183     0.0\n",
              "9    1   232.43   3.0  3.0    8    12    8    12     1.0"
            ],
            "text/html": [
              "\n",
              "  <div id=\"df-a3f71a30-c926-4afa-b37d-795cb28b123d\">\n",
              "    <div class=\"colab-df-container\">\n",
              "      <div>\n",
              "<style scoped>\n",
              "    .dataframe tbody tr th:only-of-type {\n",
              "        vertical-align: middle;\n",
              "    }\n",
              "\n",
              "    .dataframe tbody tr th {\n",
              "        vertical-align: top;\n",
              "    }\n",
              "\n",
              "    .dataframe thead th {\n",
              "        text-align: right;\n",
              "    }\n",
              "</style>\n",
              "<table border=\"1\" class=\"dataframe\">\n",
              "  <thead>\n",
              "    <tr style=\"text-align: right;\">\n",
              "      <th></th>\n",
              "      <th>tpm</th>\n",
              "      <th>mpm</th>\n",
              "      <th>sc</th>\n",
              "      <th>mc</th>\n",
              "      <th>mgg</th>\n",
              "      <th>mgsg</th>\n",
              "      <th>mpg</th>\n",
              "      <th>mpsg</th>\n",
              "      <th>target</th>\n",
              "    </tr>\n",
              "  </thead>\n",
              "  <tbody>\n",
              "    <tr>\n",
              "      <th>0</th>\n",
              "      <td>18</td>\n",
              "      <td>2086.42</td>\n",
              "      <td>32.0</td>\n",
              "      <td>2.0</td>\n",
              "      <td>3</td>\n",
              "      <td>3</td>\n",
              "      <td>11</td>\n",
              "      <td>21</td>\n",
              "      <td>1.0</td>\n",
              "    </tr>\n",
              "    <tr>\n",
              "      <th>1</th>\n",
              "      <td>50</td>\n",
              "      <td>2107.42</td>\n",
              "      <td>84.0</td>\n",
              "      <td>3.0</td>\n",
              "      <td>3</td>\n",
              "      <td>3</td>\n",
              "      <td>3</td>\n",
              "      <td>128</td>\n",
              "      <td>1.0</td>\n",
              "    </tr>\n",
              "    <tr>\n",
              "      <th>2</th>\n",
              "      <td>7</td>\n",
              "      <td>370.04</td>\n",
              "      <td>12.0</td>\n",
              "      <td>2.0</td>\n",
              "      <td>3</td>\n",
              "      <td>64</td>\n",
              "      <td>13</td>\n",
              "      <td>46</td>\n",
              "      <td>1.0</td>\n",
              "    </tr>\n",
              "    <tr>\n",
              "      <th>3</th>\n",
              "      <td>7</td>\n",
              "      <td>522.46</td>\n",
              "      <td>16.0</td>\n",
              "      <td>1.0</td>\n",
              "      <td>10</td>\n",
              "      <td>191</td>\n",
              "      <td>13</td>\n",
              "      <td>109</td>\n",
              "      <td>1.0</td>\n",
              "    </tr>\n",
              "    <tr>\n",
              "      <th>4</th>\n",
              "      <td>2</td>\n",
              "      <td>161.46</td>\n",
              "      <td>2.0</td>\n",
              "      <td>1.0</td>\n",
              "      <td>3</td>\n",
              "      <td>64</td>\n",
              "      <td>3</td>\n",
              "      <td>64</td>\n",
              "      <td>-1.0</td>\n",
              "    </tr>\n",
              "    <tr>\n",
              "      <th>5</th>\n",
              "      <td>10</td>\n",
              "      <td>1903.83</td>\n",
              "      <td>13.0</td>\n",
              "      <td>1.0</td>\n",
              "      <td>7</td>\n",
              "      <td>10</td>\n",
              "      <td>5</td>\n",
              "      <td>6</td>\n",
              "      <td>1.0</td>\n",
              "    </tr>\n",
              "    <tr>\n",
              "      <th>6</th>\n",
              "      <td>6</td>\n",
              "      <td>587.91</td>\n",
              "      <td>10.0</td>\n",
              "      <td>1.0</td>\n",
              "      <td>5</td>\n",
              "      <td>171</td>\n",
              "      <td>13</td>\n",
              "      <td>46</td>\n",
              "      <td>1.0</td>\n",
              "    </tr>\n",
              "    <tr>\n",
              "      <th>7</th>\n",
              "      <td>3</td>\n",
              "      <td>541.48</td>\n",
              "      <td>3.0</td>\n",
              "      <td>1.0</td>\n",
              "      <td>19</td>\n",
              "      <td>51</td>\n",
              "      <td>9</td>\n",
              "      <td>354</td>\n",
              "      <td>1.0</td>\n",
              "    </tr>\n",
              "    <tr>\n",
              "      <th>8</th>\n",
              "      <td>9</td>\n",
              "      <td>652.59</td>\n",
              "      <td>10.0</td>\n",
              "      <td>1.0</td>\n",
              "      <td>6</td>\n",
              "      <td>164</td>\n",
              "      <td>20</td>\n",
              "      <td>183</td>\n",
              "      <td>0.0</td>\n",
              "    </tr>\n",
              "    <tr>\n",
              "      <th>9</th>\n",
              "      <td>1</td>\n",
              "      <td>232.43</td>\n",
              "      <td>3.0</td>\n",
              "      <td>3.0</td>\n",
              "      <td>8</td>\n",
              "      <td>12</td>\n",
              "      <td>8</td>\n",
              "      <td>12</td>\n",
              "      <td>1.0</td>\n",
              "    </tr>\n",
              "  </tbody>\n",
              "</table>\n",
              "</div>\n",
              "      <button class=\"colab-df-convert\" onclick=\"convertToInteractive('df-a3f71a30-c926-4afa-b37d-795cb28b123d')\"\n",
              "              title=\"Convert this dataframe to an interactive table.\"\n",
              "              style=\"display:none;\">\n",
              "        \n",
              "  <svg xmlns=\"http://www.w3.org/2000/svg\" height=\"24px\"viewBox=\"0 0 24 24\"\n",
              "       width=\"24px\">\n",
              "    <path d=\"M0 0h24v24H0V0z\" fill=\"none\"/>\n",
              "    <path d=\"M18.56 5.44l.94 2.06.94-2.06 2.06-.94-2.06-.94-.94-2.06-.94 2.06-2.06.94zm-11 1L8.5 8.5l.94-2.06 2.06-.94-2.06-.94L8.5 2.5l-.94 2.06-2.06.94zm10 10l.94 2.06.94-2.06 2.06-.94-2.06-.94-.94-2.06-.94 2.06-2.06.94z\"/><path d=\"M17.41 7.96l-1.37-1.37c-.4-.4-.92-.59-1.43-.59-.52 0-1.04.2-1.43.59L10.3 9.45l-7.72 7.72c-.78.78-.78 2.05 0 2.83L4 21.41c.39.39.9.59 1.41.59.51 0 1.02-.2 1.41-.59l7.78-7.78 2.81-2.81c.8-.78.8-2.07 0-2.86zM5.41 20L4 18.59l7.72-7.72 1.47 1.35L5.41 20z\"/>\n",
              "  </svg>\n",
              "      </button>\n",
              "      \n",
              "  <style>\n",
              "    .colab-df-container {\n",
              "      display:flex;\n",
              "      flex-wrap:wrap;\n",
              "      gap: 12px;\n",
              "    }\n",
              "\n",
              "    .colab-df-convert {\n",
              "      background-color: #E8F0FE;\n",
              "      border: none;\n",
              "      border-radius: 50%;\n",
              "      cursor: pointer;\n",
              "      display: none;\n",
              "      fill: #1967D2;\n",
              "      height: 32px;\n",
              "      padding: 0 0 0 0;\n",
              "      width: 32px;\n",
              "    }\n",
              "\n",
              "    .colab-df-convert:hover {\n",
              "      background-color: #E2EBFA;\n",
              "      box-shadow: 0px 1px 2px rgba(60, 64, 67, 0.3), 0px 1px 3px 1px rgba(60, 64, 67, 0.15);\n",
              "      fill: #174EA6;\n",
              "    }\n",
              "\n",
              "    [theme=dark] .colab-df-convert {\n",
              "      background-color: #3B4455;\n",
              "      fill: #D2E3FC;\n",
              "    }\n",
              "\n",
              "    [theme=dark] .colab-df-convert:hover {\n",
              "      background-color: #434B5C;\n",
              "      box-shadow: 0px 1px 3px 1px rgba(0, 0, 0, 0.15);\n",
              "      filter: drop-shadow(0px 1px 2px rgba(0, 0, 0, 0.3));\n",
              "      fill: #FFFFFF;\n",
              "    }\n",
              "  </style>\n",
              "\n",
              "      <script>\n",
              "        const buttonEl =\n",
              "          document.querySelector('#df-a3f71a30-c926-4afa-b37d-795cb28b123d button.colab-df-convert');\n",
              "        buttonEl.style.display =\n",
              "          google.colab.kernel.accessAllowed ? 'block' : 'none';\n",
              "\n",
              "        async function convertToInteractive(key) {\n",
              "          const element = document.querySelector('#df-a3f71a30-c926-4afa-b37d-795cb28b123d');\n",
              "          const dataTable =\n",
              "            await google.colab.kernel.invokeFunction('convertToInteractive',\n",
              "                                                     [key], {});\n",
              "          if (!dataTable) return;\n",
              "\n",
              "          const docLinkHtml = 'Like what you see? Visit the ' +\n",
              "            '<a target=\"_blank\" href=https://colab.research.google.com/notebooks/data_table.ipynb>data table notebook</a>'\n",
              "            + ' to learn more about interactive tables.';\n",
              "          element.innerHTML = '';\n",
              "          dataTable['output_type'] = 'display_data';\n",
              "          await google.colab.output.renderOutput(dataTable, element);\n",
              "          const docLink = document.createElement('div');\n",
              "          docLink.innerHTML = docLinkHtml;\n",
              "          element.appendChild(docLink);\n",
              "        }\n",
              "      </script>\n",
              "    </div>\n",
              "  </div>\n",
              "  "
            ]
          },
          "metadata": {},
          "execution_count": 5
        }
      ]
    },
    {
      "cell_type": "code",
      "source": [
        "train_df.corr()"
      ],
      "metadata": {
        "colab": {
          "base_uri": "https://localhost:8080/",
          "height": 328
        },
        "id": "UrU_bCiHzSgW",
        "outputId": "9f2c70f3-32b9-448b-939f-e515c8620bd8"
      },
      "execution_count": null,
      "outputs": [
        {
          "output_type": "execute_result",
          "data": {
            "text/plain": [
              "             tpm       mpm        sc        mc       mgg      mgsg       mpg  \\\n",
              "tpm     1.000000  0.586716  0.754235  0.096401 -0.000435 -0.038014 -0.073906   \n",
              "mpm     0.586716  1.000000  0.686121  0.208515  0.032800  0.051623  0.000923   \n",
              "sc      0.754235  0.686121  1.000000  0.487469  0.008766 -0.035228 -0.067544   \n",
              "mc      0.096401  0.208515  0.487469  1.000000 -0.007832 -0.051140 -0.008386   \n",
              "mgg    -0.000435  0.032800  0.008766 -0.007832  1.000000  0.283655  0.592537   \n",
              "mgsg   -0.038014  0.051623 -0.035228 -0.051140  0.283655  1.000000  0.198871   \n",
              "mpg    -0.073906  0.000923 -0.067544 -0.008386  0.592537  0.198871  1.000000   \n",
              "mpsg   -0.131141  0.009108 -0.074006  0.003353  0.218229  0.523847  0.402679   \n",
              "target  0.164003  0.065650  0.123785  0.031926 -0.035901 -0.050080 -0.070435   \n",
              "\n",
              "            mpsg    target  \n",
              "tpm    -0.131141  0.164003  \n",
              "mpm     0.009108  0.065650  \n",
              "sc     -0.074006  0.123785  \n",
              "mc      0.003353  0.031926  \n",
              "mgg     0.218229 -0.035901  \n",
              "mgsg    0.523847 -0.050080  \n",
              "mpg     0.402679 -0.070435  \n",
              "mpsg    1.000000 -0.083858  \n",
              "target -0.083858  1.000000  "
            ],
            "text/html": [
              "\n",
              "  <div id=\"df-2e82d064-13ad-4cd4-8081-41eabdb13362\">\n",
              "    <div class=\"colab-df-container\">\n",
              "      <div>\n",
              "<style scoped>\n",
              "    .dataframe tbody tr th:only-of-type {\n",
              "        vertical-align: middle;\n",
              "    }\n",
              "\n",
              "    .dataframe tbody tr th {\n",
              "        vertical-align: top;\n",
              "    }\n",
              "\n",
              "    .dataframe thead th {\n",
              "        text-align: right;\n",
              "    }\n",
              "</style>\n",
              "<table border=\"1\" class=\"dataframe\">\n",
              "  <thead>\n",
              "    <tr style=\"text-align: right;\">\n",
              "      <th></th>\n",
              "      <th>tpm</th>\n",
              "      <th>mpm</th>\n",
              "      <th>sc</th>\n",
              "      <th>mc</th>\n",
              "      <th>mgg</th>\n",
              "      <th>mgsg</th>\n",
              "      <th>mpg</th>\n",
              "      <th>mpsg</th>\n",
              "      <th>target</th>\n",
              "    </tr>\n",
              "  </thead>\n",
              "  <tbody>\n",
              "    <tr>\n",
              "      <th>tpm</th>\n",
              "      <td>1.000000</td>\n",
              "      <td>0.586716</td>\n",
              "      <td>0.754235</td>\n",
              "      <td>0.096401</td>\n",
              "      <td>-0.000435</td>\n",
              "      <td>-0.038014</td>\n",
              "      <td>-0.073906</td>\n",
              "      <td>-0.131141</td>\n",
              "      <td>0.164003</td>\n",
              "    </tr>\n",
              "    <tr>\n",
              "      <th>mpm</th>\n",
              "      <td>0.586716</td>\n",
              "      <td>1.000000</td>\n",
              "      <td>0.686121</td>\n",
              "      <td>0.208515</td>\n",
              "      <td>0.032800</td>\n",
              "      <td>0.051623</td>\n",
              "      <td>0.000923</td>\n",
              "      <td>0.009108</td>\n",
              "      <td>0.065650</td>\n",
              "    </tr>\n",
              "    <tr>\n",
              "      <th>sc</th>\n",
              "      <td>0.754235</td>\n",
              "      <td>0.686121</td>\n",
              "      <td>1.000000</td>\n",
              "      <td>0.487469</td>\n",
              "      <td>0.008766</td>\n",
              "      <td>-0.035228</td>\n",
              "      <td>-0.067544</td>\n",
              "      <td>-0.074006</td>\n",
              "      <td>0.123785</td>\n",
              "    </tr>\n",
              "    <tr>\n",
              "      <th>mc</th>\n",
              "      <td>0.096401</td>\n",
              "      <td>0.208515</td>\n",
              "      <td>0.487469</td>\n",
              "      <td>1.000000</td>\n",
              "      <td>-0.007832</td>\n",
              "      <td>-0.051140</td>\n",
              "      <td>-0.008386</td>\n",
              "      <td>0.003353</td>\n",
              "      <td>0.031926</td>\n",
              "    </tr>\n",
              "    <tr>\n",
              "      <th>mgg</th>\n",
              "      <td>-0.000435</td>\n",
              "      <td>0.032800</td>\n",
              "      <td>0.008766</td>\n",
              "      <td>-0.007832</td>\n",
              "      <td>1.000000</td>\n",
              "      <td>0.283655</td>\n",
              "      <td>0.592537</td>\n",
              "      <td>0.218229</td>\n",
              "      <td>-0.035901</td>\n",
              "    </tr>\n",
              "    <tr>\n",
              "      <th>mgsg</th>\n",
              "      <td>-0.038014</td>\n",
              "      <td>0.051623</td>\n",
              "      <td>-0.035228</td>\n",
              "      <td>-0.051140</td>\n",
              "      <td>0.283655</td>\n",
              "      <td>1.000000</td>\n",
              "      <td>0.198871</td>\n",
              "      <td>0.523847</td>\n",
              "      <td>-0.050080</td>\n",
              "    </tr>\n",
              "    <tr>\n",
              "      <th>mpg</th>\n",
              "      <td>-0.073906</td>\n",
              "      <td>0.000923</td>\n",
              "      <td>-0.067544</td>\n",
              "      <td>-0.008386</td>\n",
              "      <td>0.592537</td>\n",
              "      <td>0.198871</td>\n",
              "      <td>1.000000</td>\n",
              "      <td>0.402679</td>\n",
              "      <td>-0.070435</td>\n",
              "    </tr>\n",
              "    <tr>\n",
              "      <th>mpsg</th>\n",
              "      <td>-0.131141</td>\n",
              "      <td>0.009108</td>\n",
              "      <td>-0.074006</td>\n",
              "      <td>0.003353</td>\n",
              "      <td>0.218229</td>\n",
              "      <td>0.523847</td>\n",
              "      <td>0.402679</td>\n",
              "      <td>1.000000</td>\n",
              "      <td>-0.083858</td>\n",
              "    </tr>\n",
              "    <tr>\n",
              "      <th>target</th>\n",
              "      <td>0.164003</td>\n",
              "      <td>0.065650</td>\n",
              "      <td>0.123785</td>\n",
              "      <td>0.031926</td>\n",
              "      <td>-0.035901</td>\n",
              "      <td>-0.050080</td>\n",
              "      <td>-0.070435</td>\n",
              "      <td>-0.083858</td>\n",
              "      <td>1.000000</td>\n",
              "    </tr>\n",
              "  </tbody>\n",
              "</table>\n",
              "</div>\n",
              "      <button class=\"colab-df-convert\" onclick=\"convertToInteractive('df-2e82d064-13ad-4cd4-8081-41eabdb13362')\"\n",
              "              title=\"Convert this dataframe to an interactive table.\"\n",
              "              style=\"display:none;\">\n",
              "        \n",
              "  <svg xmlns=\"http://www.w3.org/2000/svg\" height=\"24px\"viewBox=\"0 0 24 24\"\n",
              "       width=\"24px\">\n",
              "    <path d=\"M0 0h24v24H0V0z\" fill=\"none\"/>\n",
              "    <path d=\"M18.56 5.44l.94 2.06.94-2.06 2.06-.94-2.06-.94-.94-2.06-.94 2.06-2.06.94zm-11 1L8.5 8.5l.94-2.06 2.06-.94-2.06-.94L8.5 2.5l-.94 2.06-2.06.94zm10 10l.94 2.06.94-2.06 2.06-.94-2.06-.94-.94-2.06-.94 2.06-2.06.94z\"/><path d=\"M17.41 7.96l-1.37-1.37c-.4-.4-.92-.59-1.43-.59-.52 0-1.04.2-1.43.59L10.3 9.45l-7.72 7.72c-.78.78-.78 2.05 0 2.83L4 21.41c.39.39.9.59 1.41.59.51 0 1.02-.2 1.41-.59l7.78-7.78 2.81-2.81c.8-.78.8-2.07 0-2.86zM5.41 20L4 18.59l7.72-7.72 1.47 1.35L5.41 20z\"/>\n",
              "  </svg>\n",
              "      </button>\n",
              "      \n",
              "  <style>\n",
              "    .colab-df-container {\n",
              "      display:flex;\n",
              "      flex-wrap:wrap;\n",
              "      gap: 12px;\n",
              "    }\n",
              "\n",
              "    .colab-df-convert {\n",
              "      background-color: #E8F0FE;\n",
              "      border: none;\n",
              "      border-radius: 50%;\n",
              "      cursor: pointer;\n",
              "      display: none;\n",
              "      fill: #1967D2;\n",
              "      height: 32px;\n",
              "      padding: 0 0 0 0;\n",
              "      width: 32px;\n",
              "    }\n",
              "\n",
              "    .colab-df-convert:hover {\n",
              "      background-color: #E2EBFA;\n",
              "      box-shadow: 0px 1px 2px rgba(60, 64, 67, 0.3), 0px 1px 3px 1px rgba(60, 64, 67, 0.15);\n",
              "      fill: #174EA6;\n",
              "    }\n",
              "\n",
              "    [theme=dark] .colab-df-convert {\n",
              "      background-color: #3B4455;\n",
              "      fill: #D2E3FC;\n",
              "    }\n",
              "\n",
              "    [theme=dark] .colab-df-convert:hover {\n",
              "      background-color: #434B5C;\n",
              "      box-shadow: 0px 1px 3px 1px rgba(0, 0, 0, 0.15);\n",
              "      filter: drop-shadow(0px 1px 2px rgba(0, 0, 0, 0.3));\n",
              "      fill: #FFFFFF;\n",
              "    }\n",
              "  </style>\n",
              "\n",
              "      <script>\n",
              "        const buttonEl =\n",
              "          document.querySelector('#df-2e82d064-13ad-4cd4-8081-41eabdb13362 button.colab-df-convert');\n",
              "        buttonEl.style.display =\n",
              "          google.colab.kernel.accessAllowed ? 'block' : 'none';\n",
              "\n",
              "        async function convertToInteractive(key) {\n",
              "          const element = document.querySelector('#df-2e82d064-13ad-4cd4-8081-41eabdb13362');\n",
              "          const dataTable =\n",
              "            await google.colab.kernel.invokeFunction('convertToInteractive',\n",
              "                                                     [key], {});\n",
              "          if (!dataTable) return;\n",
              "\n",
              "          const docLinkHtml = 'Like what you see? Visit the ' +\n",
              "            '<a target=\"_blank\" href=https://colab.research.google.com/notebooks/data_table.ipynb>data table notebook</a>'\n",
              "            + ' to learn more about interactive tables.';\n",
              "          element.innerHTML = '';\n",
              "          dataTable['output_type'] = 'display_data';\n",
              "          await google.colab.output.renderOutput(dataTable, element);\n",
              "          const docLink = document.createElement('div');\n",
              "          docLink.innerHTML = docLinkHtml;\n",
              "          element.appendChild(docLink);\n",
              "        }\n",
              "      </script>\n",
              "    </div>\n",
              "  </div>\n",
              "  "
            ]
          },
          "metadata": {},
          "execution_count": 6
        }
      ]
    },
    {
      "cell_type": "code",
      "source": [
        "train_df = train_df.drop(['sc'], axis = 1)"
      ],
      "metadata": {
        "id": "dAwxSeK_ZHox"
      },
      "execution_count": null,
      "outputs": []
    },
    {
      "cell_type": "code",
      "source": [
        "train_df = train_df[train_df['target'] != -1]"
      ],
      "metadata": {
        "id": "8uGEdkUNlPxJ"
      },
      "execution_count": null,
      "outputs": []
    },
    {
      "cell_type": "code",
      "source": [
        "plt.hist(train_df['target'])\n",
        "plt.show()"
      ],
      "metadata": {
        "colab": {
          "base_uri": "https://localhost:8080/",
          "height": 265
        },
        "id": "TwC4Tl-JlWXO",
        "outputId": "8e214203-8e8e-4cda-9294-4fd2da3cfb74"
      },
      "execution_count": null,
      "outputs": [
        {
          "output_type": "display_data",
          "data": {
            "text/plain": [
              "<Figure size 432x288 with 1 Axes>"
            ],
            "image/png": "[encoded data removed]"
          },
          "metadata": {
            "needs_background": "light"
          }
        }
      ]
    },
    {
      "cell_type": "code",
      "source": [
        "df_for_train, df_for_test = train_test_split(train_df,\n",
        "                                             test_size=0.2,\n",
        "                                             shuffle = True,\n",
        "                                             random_state=42)"
      ],
      "metadata": {
        "id": "9TWICHtyBqLP"
      },
      "execution_count": null,
      "outputs": []
    },
    {
      "cell_type": "code",
      "source": [
        "test_X = df_for_test.drop(['target'], axis = 1)\n",
        "test_y = df_for_test['target']"
      ],
      "metadata": {
        "id": "66i6v75qCc0r"
      },
      "execution_count": null,
      "outputs": []
    },
    {
      "cell_type": "code",
      "source": [
        "X_df = df_for_train.drop(['target'], axis = 1)\n",
        "y_df = df_for_train['target']"
      ],
      "metadata": {
        "id": "UQyopUeomRGP"
      },
      "execution_count": null,
      "outputs": []
    },
    {
      "cell_type": "code",
      "source": [
        "sm = SMOTE(random_state = 42)\n",
        "X_res, y_res = sm.fit_resample(X_df, y_df)"
      ],
      "metadata": {
        "id": "pHX6M90g_9p4"
      },
      "execution_count": null,
      "outputs": []
    },
    {
      "cell_type": "code",
      "source": [
        "#!pip install catboost"
      ],
      "metadata": {
        "colab": {
          "base_uri": "https://localhost:8080/"
        },
        "id": "KqV2kYFQZkk_",
        "outputId": "d84cc567-6a62-42f8-89d5-068a18415dc3"
      },
      "execution_count": null,
      "outputs": [
        {
          "output_type": "stream",
          "name": "stdout",
          "text": [
            "Looking in indexes: https://pypi.org/simple, https://us-python.pkg.dev/colab-wheels/public/simple/\n",
            "Collecting catboost\n",
            "  Downloading catboost-1.1.1-cp37-none-manylinux1_x86_64.whl (76.6 MB)\n",
            "\u001b[K     |████████████████████████████████| 76.6 MB 1.2 MB/s \n",
            "\u001b[?25hRequirement already satisfied: pandas>=0.24.0 in /usr/local/lib/python3.7/dist-packages (from catboost) (1.3.5)\n",
            "Requirement already satisfied: scipy in /usr/local/lib/python3.7/dist-packages (from catboost) (1.7.3)\n",
            "Requirement already satisfied: six in /usr/local/lib/python3.7/dist-packages (from catboost) (1.15.0)\n",
            "Requirement already satisfied: matplotlib in /usr/local/lib/python3.7/dist-packages (from catboost) (3.2.2)\n",
            "Requirement already satisfied: plotly in /usr/local/lib/python3.7/dist-packages (from catboost) (5.5.0)\n",
            "Requirement already satisfied: graphviz in /usr/local/lib/python3.7/dist-packages (from catboost) (0.10.1)\n",
            "Requirement already satisfied: numpy>=1.16.0 in /usr/local/lib/python3.7/dist-packages (from catboost) (1.21.6)\n",
            "Requirement already satisfied: python-dateutil>=2.7.3 in /usr/local/lib/python3.7/dist-packages (from pandas>=0.24.0->catboost) (2.8.2)\n",
            "Requirement already satisfied: pytz>=2017.3 in /usr/local/lib/python3.7/dist-packages (from pandas>=0.24.0->catboost) (2022.5)\n",
            "Requirement already satisfied: pyparsing!=2.0.4,!=2.1.2,!=2.1.6,>=2.0.1 in /usr/local/lib/python3.7/dist-packages (from matplotlib->catboost) (3.0.9)\n",
            "Requirement already satisfied: kiwisolver>=1.0.1 in /usr/local/lib/python3.7/dist-packages (from matplotlib->catboost) (1.4.4)\n",
            "Requirement already satisfied: cycler>=0.10 in /usr/local/lib/python3.7/dist-packages (from matplotlib->catboost) (0.11.0)\n",
            "Requirement already satisfied: typing-extensions in /usr/local/lib/python3.7/dist-packages (from kiwisolver>=1.0.1->matplotlib->catboost) (4.1.1)\n",
            "Requirement already satisfied: tenacity>=6.2.0 in /usr/local/lib/python3.7/dist-packages (from plotly->catboost) (8.1.0)\n",
            "Installing collected packages: catboost\n",
            "Successfully installed catboost-1.1.1\n"
          ]
        }
      ]
    },
    {
      "cell_type": "code",
      "source": [
        "from catboost import CatBoostClassifier"
      ],
      "metadata": {
        "id": "GLldIz8NZkss"
      },
      "execution_count": null,
      "outputs": []
    },
    {
      "cell_type": "code",
      "source": [
        "model = CatBoostClassifier(cat_features = ['mgg', 'mgsg', 'mpg', 'mpsg'])"
      ],
      "metadata": {
        "id": "l--2U_nuZkyK"
      },
      "execution_count": null,
      "outputs": []
    },
    {
      "cell_type": "code",
      "source": [
        "model.fit(X_res, y_res, verbose = 100)"
      ],
      "metadata": {
        "colab": {
          "base_uri": "https://localhost:8080/"
        },
        "id": "biqH9U5iZ9vB",
        "outputId": "492106c6-a4cd-46c8-b137-f09353d1dc36"
      },
      "execution_count": null,
      "outputs": [
        {
          "output_type": "stream",
          "name": "stdout",
          "text": [
            "Learning rate set to 0.051624\n",
            "0:\tlearn: 0.6660032\ttotal: 86.5ms\tremaining: 1m 26s\n",
            "100:\tlearn: 0.4058457\ttotal: 5.29s\tremaining: 47.1s\n",
            "200:\tlearn: 0.3953274\ttotal: 13.1s\tremaining: 51.9s\n",
            "300:\tlearn: 0.3843893\ttotal: 19.4s\tremaining: 45s\n",
            "400:\tlearn: 0.3786211\ttotal: 24.6s\tremaining: 36.7s\n",
            "500:\tlearn: 0.3732306\ttotal: 30s\tremaining: 29.9s\n",
            "600:\tlearn: 0.3685040\ttotal: 35.3s\tremaining: 23.4s\n",
            "700:\tlearn: 0.3644706\ttotal: 40.8s\tremaining: 17.4s\n",
            "800:\tlearn: 0.3606995\ttotal: 45.9s\tremaining: 11.4s\n",
            "900:\tlearn: 0.3570203\ttotal: 51.3s\tremaining: 5.63s\n",
            "999:\tlearn: 0.3532752\ttotal: 56.7s\tremaining: 0us\n"
          ]
        },
        {
          "output_type": "execute_result",
          "data": {
            "text/plain": [
              "<catboost.core.CatBoostClassifier at 0x7f61fb9ef350>"
            ]
          },
          "metadata": {},
          "execution_count": 68
        }
      ]
    },
    {
      "cell_type": "code",
      "source": [
        "print('test ', roc_auc_score(test_y, model.predict_proba(test_X)[:, 1]) * 2 - 1)"
      ],
      "metadata": {
        "colab": {
          "base_uri": "https://localhost:8080/"
        },
        "id": "M7sfHXjYCZMw",
        "outputId": "071223df-e79d-415c-f369-be1e339d6b5a"
      },
      "execution_count": null,
      "outputs": [
        {
          "output_type": "stream",
          "name": "stdout",
          "text": [
            "test  0.28919776652724716\n"
          ]
        }
      ]
    },
    {
      "cell_type": "code",
      "source": [
        "rf_model = RandomForestClassifier(max_depth = 9, criterion = 'gini')\n",
        "rf_model.fit(X_train, y_train)"
      ],
      "metadata": {
        "colab": {
          "base_uri": "https://localhost:8080/"
        },
        "id": "Rh3X8hsKnjBz",
        "outputId": "5239ffb4-1ea4-44ac-dcb7-5d70ea347821"
      },
      "execution_count": null,
      "outputs": [
        {
          "output_type": "execute_result",
          "data": {
            "text/plain": [
              "RandomForestClassifier(max_depth=9)"
            ]
          },
          "metadata": {},
          "execution_count": 333
        }
      ]
    },
    {
      "cell_type": "code",
      "source": [
        "print('train ', roc_auc_score(y_train, rf_model.predict_proba(X_train)[:, 1]) * 2 - 1)\n",
        "print('test ', roc_auc_score(y_test, rf_model.predict_proba(X_test)[:, 1]) * 2 - 1)"
      ],
      "metadata": {
        "colab": {
          "base_uri": "https://localhost:8080/"
        },
        "id": "HwDJOkiBoZPU",
        "outputId": "98cffc16-99c3-41e1-bf83-7ce83902d24a"
      },
      "execution_count": null,
      "outputs": [
        {
          "output_type": "stream",
          "name": "stdout",
          "text": [
            "train  0.49990469494593137\n",
            "test  0.3061796406541164\n"
          ]
        }
      ]
    }
  ],
  "metadata": {
    "colab": {
      "provenance": []
    },
    "kernelspec": {
      "display_name": "Python 3",
      "name": "python3"
    },
    "language_info": {
      "name": "python"
    }
  },
  "nbformat": 4,
  "nbformat_minor": 0
}